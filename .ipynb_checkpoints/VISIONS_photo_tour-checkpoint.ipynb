{
 "cells": [
  {
   "cell_type": "markdown",
   "metadata": {},
   "source": [
    "# VISIONS biology photo tour\n",
    "\n",
    "\n",
    "This Jupyter notebook presents an interactive glimpse of ocean life. \n",
    "The photos are drawn from the ***VISIONS*** cruises, annual explorations\n",
    "of the northeastern Pacific Ocean aboard a fleet of research ships. \n",
    "\n",
    "\n",
    "For one month each summer since 2013 *VISIONS* cruises carry sailors, scientists, engineers, \n",
    "teachers and students out past the continental shelf to Axial seamount, an active underwater \n",
    "volcano 400 miles from Newport Oregon, 7000 feet below the ocean surface. \n",
    "In this natural laboratory a remotely operated robot explores the geological, physical, chemical \n",
    "and biological features of the ocean environment, extending the senses of its human controllers as they \n",
    "build and maintain a permanent scientific presence, the world's most \n",
    "advanced undersea observatory: The [Regional Cabled Array](https://interactiveoceans.washington.edu/).\n",
    "\n",
    "\n",
    "These photos focus on the various creatures living both near the surface and down in the depths\n",
    "of the ocean. Photos from deeper than 200 meters are illuminated by lights clustered\n",
    "about robotic cameras. \n",
    "\n",
    "\n",
    "***There is a run button above that looks like...***\n",
    "\n",
    "<img src=\"./run.png\" style=\"float: left;\" width=\"60\"/><BR><BR>\n",
    "\n",
    "***Click it a couple of times to \"run\" this notebook. Each click runs the next cell.***\n"
   ]
  },
  {
   "cell_type": "code",
   "execution_count": 3,
   "metadata": {
    "scrolled": false
   },
   "outputs": [
    {
     "data": {
      "application/vnd.jupyter.widget-view+json": {
       "model_id": "add1e9ba55414ca4b73fbe70197369da",
       "version_major": 2,
       "version_minor": 0
      },
      "text/plain": [
       "interactive(children=(Select(description='photosets', options=('Boat Images', 'Surface Images', 'Shallow Critt…"
      ]
     },
     "metadata": {},
     "output_type": "display_data"
    },
    {
     "data": {
      "text/plain": [
       "<function __main__.ShowCollection(choice)>"
      ]
     },
     "execution_count": 3,
     "metadata": {},
     "output_type": "execute_result"
    }
   ],
   "source": [
    "# Python program to display sea life from the VISIONS cruises\n",
    "\n",
    "###################\n",
    "# \n",
    "# Configure\n",
    "#   Pre-load useful Python libraries\n",
    "#\n",
    "###################\n",
    "\n",
    "import PIL                                   # Python image library\n",
    "from PIL import Image                        #   ...and particularly Image will be useful\n",
    "import pathlib                               # file system navigation library\n",
    "\n",
    "# (commented-out) simple hard-coded image open/render test: R/V Revelle photographed by a drone\n",
    "# PIL.Image.open(str(pathlib.Path.cwd()) + '/Boat Images/revelle_drone.png')\n",
    "\n",
    "from matplotlib import pyplot as plt         # plotting library\n",
    "from matplotlib.pyplot import imshow         # to render images in a \"plot\" context\n",
    "import numpy as np                           # numerical Python library\n",
    "\n",
    "# magic to include plots within the browser view of this notebook\n",
    "%matplotlib inline\n",
    "\n",
    "from ipywidgets import widgets, interact     # widgets for creating interactive views\n",
    "from traitlets import dlink                  # ...and further interactive support\n",
    "\n",
    "\n",
    "##############\n",
    "#\n",
    "# Data map: \n",
    "#   Folders ('collections') and image filenames for this simple visualization\n",
    "#\n",
    "##############\n",
    "collections = ['Boat Images', 'Surface Images', 'Shallow Critters', 'Deep Critters', 'Seafloor Critters']\n",
    "imagefilenames = [\\\n",
    "                 [\"Atlantis.png\", \"Jason.jpg\", \"revelle_drone.png\", \"thompson.jpg\"],\\\n",
    "                 [\"mola-mola.jpg\", \"pacific_white_sided_dolphins.jpg\", \"pacificdolphin_closeup.jpg\",\\\n",
    "                  \"shark.jpg\", \"sunsetonrevelle.jpg\"],\\\n",
    "                 [\"big_red_shr.jpg\", \"flatfish_shr_800m.jpg\", \"rockfish_shr.jpg\"],\\\n",
    "                 [\"friedegg_jelly.jpg\", \"huge_rattail_ID_1500m.jpg\", \"skate_1756m_axial.jpg\", \"slopebase_fish_2900m.jpg\"],\\\n",
    "                 [\"babysittersnails.jpg\", \"crab_dining_axial.jpg\", \"pink_anemone.jpg\", \"pompom_anemone.jpg\",\\\n",
    "                  \"soft_coral.jpg\", \"yellow_seastar_900m.jpg\"]\\\n",
    "                 ]\n",
    "titles = [\\\n",
    "         [\"Vessel: Atlantis\", \"ROV JASON\", \"Vessel: Ravelle (from drone)\", \"Vessel: Thompson\"],\\\n",
    "                 [\"Mola-mola (sunfish)\", \"Pacific White Sided Dolphin\", \"PWSD close-up\",\\\n",
    "                  \"Unidentified shark\", \"Sunset on the Revelle\"],\\\n",
    "                 [\"Red jelly\", \"Unidentified flatfish\", \"Unidentified rockfish\"],\\\n",
    "                 [\"Fried egg jelly\", \"Large Rat-tail (1500 meters depth)\", \"Skate (1800 meters depth near Axial)\", \\\n",
    "                  \"Fish sp.\"],\\\n",
    "                 [\"Babysitter snails\", \"Crab dining near axial\", \"Pink anemone\", \"Pompom anemone\",\\\n",
    "                  \"Soft coral\", \"Yellow seastar at 900 meters depth\"]\\\n",
    "                 ]\n",
    "\n",
    "n_collections = len(collections)                                                   # number of collections (5 in fact)\n",
    "n_images_per_collection = [len(imagefilenames[i]) for i in range(n_collections)]   # number of images in each collection\n",
    "home_d = str(pathlib.Path.cwd()) + '/photos/'                                             # home directory\n",
    "\n",
    "\n",
    "############\n",
    "#\n",
    "# Display function:\n",
    "#   Shows a thematic collection of images\n",
    "#\n",
    "############\n",
    "\n",
    "def ShowCollection(choice):                            \n",
    "    collection_index = collections.index(choice)       # given a choice of which collection > get its index\n",
    "    collection = collections[collection_index]         # the collection name (this could be the same as 'choice')\n",
    "    nipc = n_images_per_collection[collection_index]   # shorthand for the number of images in this collection\n",
    "    \n",
    "    # lay out a vertical set of subplots: Each will receive an image from this collection\n",
    "    fig, ax = plt.subplots(n_images_per_collection[collection_index], 1, figsize=(16, 10*nipc))\n",
    "    \n",
    "    # for each image in this collection: Read the image file and display it\n",
    "    for image_index in range(nipc):\n",
    "        imagefile = home_d + collection + '/' + imagefilenames[collection_index][image_index]\n",
    "        pil_image = PIL.Image.open(imagefile)           # one can append .resize((800, 400), Image.ANTIALIAS) here.\n",
    "        ax[image_index].imshow(np.asarray(pil_image))   # display\n",
    "        ax[image_index].axis('off')                     # no need to display axis ticks\n",
    "        \n",
    "        # Label each image using the main part of its filename\n",
    "        ax[image_index].set_title(titles[collection_index][image_index].split('.')[0])\n",
    "\n",
    "############\n",
    "#\n",
    "# Interactive collection picker\n",
    "#   Choose which collection to view\n",
    "#\n",
    "############\n",
    "\n",
    "interact(ShowCollection, choice=widgets.Select(options=collections, value = collections[0], description='photosets'))"
   ]
  },
  {
   "cell_type": "markdown",
   "metadata": {},
   "source": [
    "***Each time you select a different set of photos give it a few seconds to load.***"
   ]
  }
 ],
 "metadata": {
  "kernelspec": {
   "display_name": "Python 3",
   "language": "python",
   "name": "python3"
  },
  "language_info": {
   "codemirror_mode": {
    "name": "ipython",
    "version": 3
   },
   "file_extension": ".py",
   "mimetype": "text/x-python",
   "name": "python",
   "nbconvert_exporter": "python",
   "pygments_lexer": "ipython3",
   "version": "3.7.1"
  }
 },
 "nbformat": 4,
 "nbformat_minor": 2
}
